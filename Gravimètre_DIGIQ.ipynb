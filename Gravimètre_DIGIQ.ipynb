{
  "cells": [
    {
      "cell_type": "markdown",
      "metadata": {
        "id": "AHNFIBlFAsi5"
      },
      "source": [
        "# Gravimètre à atomes froids - Interféromètrie atomique\n",
        "\n",
        "Une des applications de l'interférométrie atomique est le gravimètre à atomes froids, qui permet de mesurer la valeur de l'accélération de la pesanteur $g$ avec une forte précision, de l'ordre de $2.10^8g$ sur une seconde.\n",
        "\n",
        "Dans ce Notebook, on fera référence à la thèse que l'on peut trouver sur le lien suivant : https://theses.hal.science/tel-00070861/document qui décrit en détail le fonctionnement du gravimètre à atomes froids. On en fera ici une description des points essentiels de son fonctionnement.\n",
        "\n",
        "# Principe de fonctionnement\n",
        "\n",
        "On souhaite étudier la chute libre d'une \"masse test\", consitutée d'atomes froids de $^{87}Rb$. Lors de leur chute, les atomes vont subir trois impulsions lasers (impulsions Raman), qui modifieront leurs états.\n",
        "\n",
        "## Transitions Raman stimulées\n",
        "\n",
        "Deux faisceaux lasers contra-propageants dont la différence de fréquence est résonnante avec l’écart entre les deux niveaux hyperfins $|{a}\\rangle =|5S_{\\frac 1 2}, F=1>$ et $|{b}\\rangle =|5S_{\\frac 1 2}, F=2>$, induisent une transition entre ces deux niveaux. Cette transition s'accompagne d'un transfert d'impulsion $\\hbar (k_1-k_2)=\\hbar k_\\text{eff}$ des impulsions des deux faisceaux, ce qui permet la séparation spatiale des deux états.  \n",
        "\n",
        "On distingue particulièrement les transitions suivantes:\n",
        "- $\\frac {\\pi} 2 $: séparation équiprobable des deux états $|{a}\\rangle $ et $|{b}\\rangle $\n",
        "\n",
        "- $\\pi$: transfert complet d'un état vers l'autre\n",
        "\n",
        "Après avoir été sélectionnées dans l'état $|{a} \\rangle $ , les atomes de $^{87}Rb$ subieront, dans l'ordre, une transition $\\frac {\\pi} 2 $ (séparation),  $\\pi$ (miroir)  et $\\frac {\\pi} 2 $ (recombinaison)\n",
        "\n",
        "On résume dans le schéma général ci-contre le principe de ces trois impulsions lasers.  \n",
        "\n",
        "<img src=https://www.researchgate.net/profile/Mehdi-Langlois/publication/327527612/figure/fig2/AS:703359321395203@1544705338431/Accelerometre-atomique-Dans-cet-interferometre-le-nuage-datomes-est-separe-reflechi.png width=\"400\">\n",
        "\n"
      ]
    },
    {
      "cell_type": "markdown",
      "metadata": {
        "id": "-dGW2W0Hh9j9"
      },
      "source": [
        "\n",
        "## Détermination théorique de $g$\n",
        "\n",
        "On dispose de la relation: $P=\\frac {N_{|{a}\\rangle}}{N_{|{a}\\rangle}+ N_{|{b}\\rangle}}= \\frac 1 2 \\left[ 1-\\cos ( k_\\text{eff}gT^2+\\phi_1^0 - 2\\phi_2^0 + \\phi_3^0 )\\right]=\\frac 1 2 \\left[ 1-\\cos (\\Delta \\phi)\\right]$\n",
        "\n",
        "Par fluorescence, il est possible de mesurer déterminer le nombre d'atomes dans les états $|{a}\\rangle $ et $|{b}\\rangle $. Ainsi, il sera possible de remonter à la valeur de g.\n",
        "\n",
        "NB: Si l'on traçait le nombre d'atomes excités en fonction de la phase, on obtientrait l'allure suivant:\n",
        "\n",
        "<img src=https://www.researchgate.net/publication/44852737/figure/fig4/AS:646475067428867@1531143075731/Interference-fringes-of-the-described-atom-interferometer-configuration-The-inset.png width=\"500\">\n",
        "\n",
        "En pratique, on utilisera une approche légèrement différente, faisant intervenir la \"vitesse de balayage de fréquence\" $\\alpha $. En effet, par effet Doppler, la fréquence de résonance du processus Raman dépend de la vitesse. Lorsque les atomes sont en chute libre, il est nécessaire de balayer la différence de fréquence des faisceaux lasers Raman satisfaire la condition de résonance pour chaque impulsion.\n",
        "Ainsi, le déphasage $\\alpha T^2$ s'ajoute au déphasage gravitationnel ($\\alpha/2\\pi$ est la vitesse de balayage en fréquence). Si $T$ est la durée entre deux impulsions laser, $\\tau$ la durée entre deux impulsions, le déphasage se réecrit:  \n",
        "\n",
        "$\\Delta \\phi = (k_\\text{eff}g-a)(T+2\\tau)(T+4\\tau/\\pi$)\n",
        "\n",
        "\n",
        "On enregistre ensuite les franges en faisant varier $\\alpha$ pour chaque mesure. Lorsque l'effet Doppler est parfaitement compensé, quelque soit la valeur de $T$, le déphasage total $\\Delta \\phi$ s'annule. La frange sombre correspondante associé à sa vitesse de balayage $\\alpha_0 $ permet de déterminer la valeur de $g=\\frac {\\alpha_0}{K_\\text{eff}}$. Le graphe des résultats est présenté dans la partie suivante.\n",
        "\n"
      ]
    },
    {
      "cell_type": "markdown",
      "metadata": {
        "id": "ntec-3ckKWHB"
      },
      "source": [
        "## Expérimentation\n",
        "\n",
        "L'expérimentation permet d'obtenir les valeurs de probabalité d'un état en fonction de la vitesse de balage en fréquence. On dispose des données du graphe ci-dessous:\n",
        "\n",
        "<img src=\"https://i.ibb.co/Ns9QLsH/interferences.png\" alt=\"interferences\" border=\"0\" width=500>\n",
        "\n",
        "D'après ces données, on tire  $\\alpha_0/2\\pi = 25.1442$ $MHz.s^{-1}$"
      ]
    },
    {
      "cell_type": "code",
      "execution_count": 2,
      "metadata": {},
      "outputs": [
        {
          "name": "stdout",
          "output_type": "stream",
          "text": [
            "Valeur de g calculée 9.809280099298581 m/s^2\n"
          ]
        }
      ],
      "source": [
        "import numpy as np\n",
        "\n",
        "#Définiton des constantes\n",
        "\n",
        "k_eff = 2 * np.pi * 2.56330737276 * 10**6   # propriété des atomes de Rubidium 87\n",
        "alpha0 = 2 * np.pi * 25.1442 * 10**6   # valeur mesurée qui annule le déphasage interférométrique\n",
        "\n",
        "#Calcul de g\n",
        "g = alpha0 / k_eff\n",
        "\n",
        "print(\"Valeur de g calculée\",g, \"m/s^2\")"
      ]
    }
  ],
  "metadata": {
    "colab": {
      "provenance": []
    },
    "kernelspec": {
      "display_name": "Python 3",
      "name": "python3"
    },
    "language_info": {
      "codemirror_mode": {
        "name": "ipython",
        "version": 3
      },
      "file_extension": ".py",
      "mimetype": "text/x-python",
      "name": "python",
      "nbconvert_exporter": "python",
      "pygments_lexer": "ipython3",
      "version": "3.11.5"
    }
  },
  "nbformat": 4,
  "nbformat_minor": 0
}
